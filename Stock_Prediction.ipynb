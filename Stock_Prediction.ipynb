{
 "cells": [
  {
   "cell_type": "code",
   "execution_count": 1,
   "metadata": {
    "id": "vY_Ydjq6liLi"
   },
   "outputs": [],
   "source": [
    "# Filename: stock_price_prediction.py\n",
    "\n",
    "import yfinance as yf\n",
    "import numpy as np\n",
    "import pandas as pd\n",
    "from sklearn.preprocessing import MinMaxScaler\n",
    "import matplotlib.pyplot as plt\n",
    "from tensorflow.keras.models import Sequential\n",
    "from tensorflow.keras.layers import LSTM, Dense, Dropout\n",
    "from sklearn.metrics import mean_absolute_error\n"
   ]
  },
  {
   "cell_type": "code",
   "execution_count": 2,
   "metadata": {
    "id": "FuGo7GPaliLi"
   },
   "outputs": [],
   "source": [
    "# Function to preprocess the data\n",
    "def preprocess_data(stock_data, time_step=60):\n",
    "    # Normalize the data\n",
    "    scaler = MinMaxScaler(feature_range=(0, 1))\n",
    "    stock_data_scaled = scaler.fit_transform(stock_data)\n",
    "\n",
    "    # Create the dataset with the specified time window\n",
    "    X, y = [], []\n",
    "    for i in range(time_step, len(stock_data_scaled)):\n",
    "        X.append(stock_data_scaled[i - time_step:i, 0])  # The past `time_step` data points\n",
    "        y.append(stock_data_scaled[i, 0])  # The next day's stock price\n",
    "\n",
    "    # Convert lists to NumPy arrays\n",
    "    X, y = np.array(X), np.array(y)\n",
    "\n",
    "    # Reshape X to be [samples, time steps, features] for LSTM\n",
    "    X = np.reshape(X, (X.shape[0], X.shape[1], 1))\n",
    "\n",
    "    # Return the processed X, y, and scaler for future inverse transformation\n",
    "    return X, y, scaler"
   ]
  },
  {
   "cell_type": "code",
   "execution_count": 3,
   "metadata": {
    "id": "ZJV-HCbJliLj"
   },
   "outputs": [],
   "source": [
    "# Build LSTM model\n",
    "def build_lstm_model(input_shape):\n",
    "    model = Sequential()\n",
    "    model.add(LSTM(units=50, return_sequences=True, input_shape=input_shape))\n",
    "    model.add(Dropout(0.2))\n",
    "    model.add(LSTM(units=50, return_sequences=False))\n",
    "    model.add(Dropout(0.2))\n",
    "    model.add(Dense(units=1))  # Output layer for stock price prediction\n",
    "    model.compile(optimizer='adam', loss='mean_squared_error')\n",
    "    return model"
   ]
  },
  {
   "cell_type": "code",
   "execution_count": 4,
   "metadata": {
    "id": "LNUL7ZvEliLj"
   },
   "outputs": [],
   "source": [
    "\n",
    "# Train the model and predict\n",
    "def train_and_predict_for_company(ticker):\n",
    "    print(f\"Fetching data for {ticker}...\")"
   ]
  },
  {
   "cell_type": "code",
   "execution_count": null,
   "metadata": {
    "colab": {
     "base_uri": "https://localhost:8080/"
    },
    "id": "DbwRMlAzliLj",
    "outputId": "d87fe197-6f9b-48da-c120-c70e66497f85"
   },
   "outputs": [],
   "source": [
    "# Fetch stock data using yfinance\n",
    "stock_data = yf.download('AAPL', start='2024-01-01', end='2024-09-01')\n",
    "\n",
    "\n",
    "\n",
    "# Only use 'Close' prices from the stock data\n",
    "stock_data = stock_data[['Close']]\n",
    "\n",
    "# Display the first few rows to verify the data\n",
    "print(stock_data)"
   ]
  },
  {
   "cell_type": "code",
   "execution_count": null,
   "metadata": {
    "colab": {
     "base_uri": "https://localhost:8080/"
    },
    "id": "b9lqSHL6liLk",
    "outputId": "cc5f336a-ab57-4398-8496-e8e64f0465dc"
   },
   "outputs": [],
   "source": [
    "# Fetch stock data using yfinance\n",
    "stock_data = yf.download('MSFT', start='2024-01-01', end='2024-09-01')\n",
    "# Only use 'Close' prices from the stock data\n",
    "stock_data = stock_data[['Close']]\n",
    "\n",
    "# Display the first few rows to verify the data\n",
    "print(stock_data)"
   ]
  },
  {
   "cell_type": "code",
   "execution_count": null,
   "metadata": {
    "colab": {
     "base_uri": "https://localhost:8080/"
    },
    "id": "XxWPr6rvliLk",
    "outputId": "f339b34e-f262-46cb-dbcb-d99caf166dff"
   },
   "outputs": [],
   "source": [
    "# Fetch stock data using yfinance\n",
    "stock_data = yf.download('GOOGL', start='2024-01-01', end='2024-09-01')\n",
    "# Only use 'Close' prices from the stock data\n",
    "stock_data = stock_data[['Close']]\n",
    "\n",
    "# Display the first few rows to verify the data\n",
    "print(stock_data)\n"
   ]
  },
  {
   "cell_type": "code",
   "execution_count": null,
   "metadata": {
    "colab": {
     "base_uri": "https://localhost:8080/"
    },
    "id": "PvgEAPr0liLl",
    "outputId": "9f5ce550-4bd1-453b-ab80-b960a9e99994"
   },
   "outputs": [],
   "source": [
    "# Fetch stock data using yfinance\n",
    "stock_data = yf.download('NVDA', start='2024-01-01', end='2024-09-01')\n",
    "# Only use 'Close' prices from the stock data\n",
    "stock_data = stock_data[['Close']]\n",
    "\n",
    "# Display the first few rows to verify the data\n",
    "print(stock_data)\n"
   ]
  },
  {
   "cell_type": "code",
   "execution_count": 9,
   "metadata": {
    "id": "avdva51PliLl"
   },
   "outputs": [],
   "source": [
    "# Split data into training and testing (80% training, 20% testing)\n",
    "training_data_len = int(len(stock_data) * 0.8)\n",
    "training_data = stock_data[:training_data_len]\n",
    "testing_data = stock_data[training_data_len:]\n"
   ]
  },
  {
   "cell_type": "code",
   "execution_count": 10,
   "metadata": {
    "id": "9Cyo60eMliLl"
   },
   "outputs": [],
   "source": [
    "  # Preprocess training data\n",
    "time_step = 60\n",
    "X_train, y_train, scaler = preprocess_data(training_data, time_step)\n"
   ]
  },
  {
   "cell_type": "code",
   "execution_count": null,
   "metadata": {
    "colab": {
     "base_uri": "https://localhost:8080/"
    },
    "id": "0DZ1-gYlliLm",
    "outputId": "bf2f3df6-4200-472d-f5bb-ac1f3e1a0d62"
   },
   "outputs": [],
   "source": [
    "# Build the LSTM model\n",
    "model = build_lstm_model((X_train.shape[1], 1))\n"
   ]
  },
  {
   "cell_type": "code",
   "execution_count": null,
   "metadata": {
    "colab": {
     "base_uri": "https://localhost:8080/"
    },
    "id": "l_wz6pIbliLm",
    "outputId": "bb96dbd4-c877-44e5-f0af-3160b4e00687"
   },
   "outputs": [],
   "source": [
    "# Train the model\n",
    "model.fit(X_train, y_train, epochs=20, batch_size=32)"
   ]
  },
  {
   "cell_type": "code",
   "execution_count": null,
   "metadata": {
    "colab": {
     "base_uri": "https://localhost:8080/"
    },
    "id": "reWSAOFKliLm",
    "outputId": "961c55f5-b5dc-4042-9f58-50ab6bffbcd9"
   },
   "outputs": [],
   "source": [
    "# Preprocess test data\n",
    "total_data = pd.concat((training_data, testing_data), axis=0)\n",
    "test_inputs = total_data[len(total_data) - len(testing_data) - time_step:].values\n",
    "test_inputs_scaled = scaler.transform(test_inputs)\n",
    "\n",
    "X_test = []\n",
    "for i in range(time_step, len(test_inputs_scaled)):\n",
    "        X_test.append(test_inputs_scaled[i-time_step:i, 0])\n",
    "X_test = np.array(X_test)\n",
    "X_test = np.reshape(X_test, (X_test.shape[0], X_test.shape[1], 1))"
   ]
  },
  {
   "cell_type": "code",
   "execution_count": null,
   "metadata": {
    "colab": {
     "base_uri": "https://localhost:8080/"
    },
    "id": "egH3xCEUliLm",
    "outputId": "35759906-b739-41a8-a568-8f23739ffeaf"
   },
   "outputs": [],
   "source": [
    "# Predict the stock prices\n",
    "predicted_stock_prices = model.predict(X_test)\n",
    "predicted_stock_prices = scaler.inverse_transform(predicted_stock_prices)"
   ]
  },
  {
   "cell_type": "code",
   "execution_count": 15,
   "metadata": {
    "id": "69JtI2HYliLm"
   },
   "outputs": [],
   "source": [
    "# Get actual stock prices for comparison\n",
    "actual_stock_prices = testing_data['Close'].values"
   ]
  },
  {
   "cell_type": "code",
   "execution_count": 16,
   "metadata": {
    "id": "YzT0jv3uliLn"
   },
   "outputs": [],
   "source": [
    "def train_and_predict_for_company(company):\n",
    "    # After training and predicting, plot the results\n",
    "    plt.figure(figsize=(10, 6))\n",
    "    plt.plot(actual_stock_prices, color='blue', label='Actual Stock Price')\n",
    "    plt.plot(predicted_stock_prices, color='red', label='Predicted Stock Price')\n",
    "    plt.title(f'{company} Stock Price Prediction')  # Corrected to 'company'\n",
    "    plt.xlabel('Time')\n",
    "    plt.ylabel('Stock Price')\n",
    "    plt.legend()\n",
    "    plt.show()"
   ]
  },
  {
   "cell_type": "code",
   "execution_count": 17,
   "metadata": {
    "id": "_gSxUcV5liLn"
   },
   "outputs": [],
   "source": [
    "def plot_stock_predictions(actual_stock_prices, predicted_stock_prices, company):\n",
    "    \"\"\"\n",
    "    Function to plot the actual vs. predicted stock prices.\n",
    "\n",
    "    Parameters:\n",
    "    - actual_stock_prices: The actual stock prices from the test data.\n",
    "    - predicted_stock_prices: The predicted stock prices by the model.\n",
    "    - company: The ticker symbol of the company (used for the plot title).\n",
    "    \"\"\"\n",
    "    # Create a new figure with a specific size\n",
    "    plt.figure(figsize=(10, 6))\n",
    "\n",
    "    # Plot the actual stock prices in blue\n",
    "    plt.plot(actual_stock_prices, color='blue', label='Actual Stock Price')\n",
    "\n",
    "    # Plot the predicted stock prices in red\n",
    "    plt.plot(predicted_stock_prices, color='red', label='Predicted Stock Price')\n",
    "\n",
    "    # Set the title of the plot\n",
    "    plt.title(f'{company} Stock Price Prediction')\n",
    "\n",
    "    # Set the labels for the x and y axes\n",
    "    plt.xlabel('Time')\n",
    "    plt.ylabel('Stock Price')\n",
    "\n",
    "    # Add a legend to differentiate between actual and predicted prices\n",
    "    plt.legend()\n",
    "\n",
    "    # Show the plot\n",
    "    plt.show()\n",
    "\n"
   ]
  },
  {
   "cell_type": "code",
   "execution_count": 18,
   "metadata": {
    "id": "ZiVa1MI0liLn"
   },
   "outputs": [],
   "source": [
    "def train_and_predict_for_company(company):\n",
    "    # After training and predicting\n",
    "    plot_stock_predictions(actual_stock_prices, predicted_stock_prices, company)"
   ]
  },
  {
   "cell_type": "markdown",
   "metadata": {
    "id": "oNVPfahrliLn"
   },
   "source": [
    "Returned Values:\n",
    "\n",
    "X_train: The training input data. It's an array where each entry is a sequence of 60 days of stock prices.\n",
    "y_train: The target output data. It's an array where each entry is the stock price on the day immediately following the 60-day window in X_train."
   ]
  },
  {
   "cell_type": "code",
   "execution_count": 19,
   "metadata": {
    "id": "cR_wHewEliLo"
   },
   "outputs": [],
   "source": [
    "# Train the model and predict for a given company\n",
    "def train_and_predict_for_company(company):\n",
    "    print(f\"Fetching data for {company}...\")\n",
    "\n",
    "    # Fetch stock data using yfinance\n",
    "    stock_data = yf.download(company, start='2024-01-01', end='2024-09-01')\n",
    "    stock_data = stock_data[['Close']]  # Only use 'Close' prices\n",
    "\n",
    "    # Split data into training and testing (80% training, 20% testing)\n",
    "    training_data_len = int(len(stock_data) * 0.8)\n",
    "    training_data = stock_data[:training_data_len]\n",
    "    testing_data = stock_data[training_data_len:]\n",
    "\n",
    "    # Preprocess training data\n",
    "    time_step = 60\n",
    "    X_train, y_train, scaler = preprocess_data(training_data, time_step)\n",
    "\n",
    "    # Build the LSTM model\n",
    "    model = build_lstm_model((X_train.shape[1], 1))\n",
    "\n",
    "    # Train the model\n",
    "    model.fit(X_train, y_train, epochs=20, batch_size=32)\n",
    "\n",
    "    # Preprocess test data\n",
    "    total_data = pd.concat((training_data, testing_data), axis=0)\n",
    "    test_inputs = total_data[len(total_data) - len(testing_data) - time_step:].values\n",
    "    test_inputs_scaled = scaler.transform(test_inputs)\n",
    "\n",
    "    X_test = []\n",
    "    for i in range(time_step, len(test_inputs_scaled)):\n",
    "        X_test.append(test_inputs_scaled[i - time_step:i, 0])\n",
    "    X_test = np.array(X_test)\n",
    "    X_test = np.reshape(X_test, (X_test.shape[0], X_test.shape[1], 1))\n",
    "\n",
    "    # Predict the stock prices\n",
    "    predicted_stock_prices = model.predict(X_test)\n",
    "    predicted_stock_prices = scaler.inverse_transform(predicted_stock_prices)\n",
    "\n",
    "    # Get actual stock prices for comparison\n",
    "    actual_stock_prices = testing_data['Close'].values\n",
    "\n",
    "    # Plot the results\n",
    "    plot_stock_predictions(actual_stock_prices, predicted_stock_prices, company)\n"
   ]
  },
  {
   "cell_type": "code",
   "execution_count": null,
   "metadata": {
    "colab": {
     "base_uri": "https://localhost:8080/",
     "height": 1000
    },
    "id": "xH4yhe-1liLo",
    "outputId": "44750e43-d399-4039-dd21-344692c2c990"
   },
   "outputs": [],
   "source": [
    "# Main execution loop for all companies\n",
    "if __name__ == \"__main__\":\n",
    "    companies = ['AAPL', 'MSFT', 'GOOGL', 'NVDA']  # List of companies\n",
    "    for company in companies:\n",
    "        print(f\"Training and predicting for {company}...\")\n",
    "        train_and_predict_for_company(company)"
   ]
  },
  {
   "cell_type": "markdown",
   "metadata": {
    "id": "fK4HLWTuliLo"
   },
   "source": [
    "Goal: The goal of this line is to preprocess your training data so that it can be used to train the Long Short-Term Memory LSTM model. The LSTM will learn from sequences of past stock prices to predict the future stock price.\n",
    "Outcome: X_train contains the past 60-day windows of stock prices, y_train contains the next day's stock price, and the scaler is returned for later use (when predicting future prices).\n",
    "The code is designed to predict the future stock price of multiple companies using an LSTM model.\n",
    "It preprocesses the data by scaling it, builds and trains an LSTM model, makes predictions, and then plots the actual vs predicted stock prices.\n",
    "The program is modular, so you can easily extend it to work with additional companies or modify the model architecture."
   ]
  },
  {
   "cell_type": "code",
   "execution_count": 21,
   "metadata": {
    "id": "55BolwVyliLo"
   },
   "outputs": [],
   "source": [
    "# Set stock symbols for the FOUR companies\n",
    "companies = ['AAPL', 'MSFT', 'GOOGL', 'NVDA']"
   ]
  },
  {
   "cell_type": "code",
   "execution_count": 22,
   "metadata": {
    "id": "_sgl9zQMliLp"
   },
   "outputs": [],
   "source": [
    "# Fetch stock data from Yahoo Finance\n",
    "def fetch_stock_data(ticker, start_date='2024-01-01', end_date='2024-09-01'):\n",
    "    stock = yf.download(ticker, start=start_date, end=end_date)\n",
    "    return stock[['Close']]  # We are only interested in the closing prices\n"
   ]
  },
  {
   "cell_type": "code",
   "execution_count": 23,
   "metadata": {
    "id": "_XJyHQZfliLp"
   },
   "outputs": [],
   "source": [
    "# Preprocess the data for the LSTM model\n",
    "def preprocess_data(stock_data, time_step=60):\n",
    "    # Normalize the data\n",
    "    scaler = MinMaxScaler(feature_range=(0, 1))\n",
    "    stock_data_scaled = scaler.fit_transform(stock_data)"
   ]
  },
  {
   "cell_type": "code",
   "execution_count": null,
   "metadata": {
    "colab": {
     "base_uri": "https://localhost:8080/"
    },
    "id": "Ku8AMuvgliLp",
    "outputId": "ac46e5d1-1fc4-4687-a487-c020e4b58072"
   },
   "outputs": [],
   "source": [
    "# Step 1: Fetch stock data\n",
    "stock_data = yf.download('AAPL', start='2020-01-01', end='2024-09-01')\n",
    "stock_data1 = yf.download('MSFT', start='2020-01-01', end='2024-09-01')\n",
    "stock_data2 = yf.download('GOOGL', start='2020-01-01', end='2024-09-01')\n",
    "stock_data3 = yf.download('NVDA', start='2020-01-01', end='2024-09-01')\n",
    "\n",
    "\n",
    "\n",
    "\n",
    "# This downloads stock data and selects the 'Close' column for scaling.\n",
    "# If stock_data is already defined, skip this step.\n",
    "\n",
    "stock_data = stock_data[['Close']]  # Only the 'Close' column is used for scaling\n",
    "stock_data1 = stock_data[['Close']]  # Only the 'Close' column is used for scaling\n",
    "stock_data2 = stock_data[['Close']]  # Only the 'Close' column is used for scaling\n",
    "stock_data3 = stock_data[['Close']]  # Only the 'Close' column is used for scaling\n",
    "\n",
    "# Step 2: Initialize the scaler to scale data between 0 and 1\n",
    "scaler = MinMaxScaler(feature_range=(0, 4))\n",
    "\n",
    "# Step 3: Fit the scaler to the data and transform it\n",
    "stock_data_scaled = scaler.fit_transform(stock_data,stock_data1)\n",
    "\n",
    "# Step 4: Now stock_data_scaled contains the normalized stock prices\n",
    "print(stock_data_scaled)"
   ]
  },
  {
   "cell_type": "code",
   "execution_count": 25,
   "metadata": {
    "id": "mHXHWUeAliLp"
   },
   "outputs": [],
   "source": [
    "\n",
    "# Assuming stock_data is a pandas DataFrame with the stock's closing prices\n",
    "stock_data = stock_data[['Close']]  # Only the 'Close' column is used for scaling\n",
    "\n",
    "# Initialize the scaler to scale data between 0 and 1\n",
    "scaler = MinMaxScaler(feature_range=(0, 1))\n",
    "\n",
    "# Fit the scaler to the data and transform it\n",
    "stock_data_scaled = scaler.fit_transform(stock_data)\n",
    "\n",
    "# stock_data_scaled is now a NumPy array of scaled stock prices, normalized between 0 and 1"
   ]
  },
  {
   "cell_type": "code",
   "execution_count": 26,
   "metadata": {
    "id": "_dfb2GFTliLp"
   },
   "outputs": [],
   "source": [
    "time_step = 60  # Use the past 60 days of data to predict the next day's price\n",
    "# Target: next day's price\n",
    "# Input data: previous 60 days\n",
    "# Create the dataset with a specified time window\n",
    "X, y = [], []\n",
    "for i in range(time_step, len(stock_data_scaled)):\n",
    "    X.append(stock_data_scaled[i - time_step:i, 0])\n",
    "    y.append(stock_data_scaled[i, 0])\n",
    "\n",
    "X, y = np.array(X), np.array(y)\n",
    "\n",
    "# Reshape X to be [samples, time steps, features] for LSTM\n",
    "X = np.reshape(X, (X.shape[0], X.shape[1], 1))"
   ]
  },
  {
   "cell_type": "code",
   "execution_count": 27,
   "metadata": {
    "id": "2MWXvkGJliLq"
   },
   "outputs": [],
   "source": [
    " # Create the dataset with a specified time window\n",
    "X, y = [], []\n",
    "time_step = 60  # Define the time step variable\n",
    "\n",
    "for i in range(time_step, len(stock_data_scaled)):\n",
    "    # Append the last `time_step` data points for X and the next data point for y\n",
    "   # X is the sequence of the previous 60 days\n",
    "    # y is the next day's price\n",
    "\n",
    "\n",
    "    X.append(stock_data_scaled[i - time_step:i, 0])\n",
    "    y.append(stock_data_scaled[i, 0])\n",
    "\n",
    "# Convert lists to NumPy arrays\n",
    "X, y = np.array(X), np.array(y)\n",
    "\n",
    "  # Reshape X to be [samples, time steps, features] for LSTM\n",
    "X = np.reshape(X, (X.shape[0], X.shape[1], 1))\n"
   ]
  },
  {
   "cell_type": "code",
   "execution_count": 28,
   "metadata": {
    "id": "LKWAfvQ1liLq"
   },
   "outputs": [],
   "source": [
    "# Build the LSTM model\n",
    "def build_lstm_model(input_shape):\n",
    "    model = Sequential()\n",
    "\n",
    "    # First LSTM layer with dropout regularization\n",
    "    model.add(LSTM(units=50, return_sequences=True, input_shape=input_shape))\n",
    "    model.add(Dropout(0.2))\n"
   ]
  },
  {
   "cell_type": "code",
   "execution_count": 29,
   "metadata": {
    "id": "3P72pQKBliLq"
   },
   "outputs": [],
   "source": [
    "def build_lstm_model(input_shape):\n",
    "    # Initialize the Sequential model\n",
    "    model = Sequential()"
   ]
  },
  {
   "cell_type": "code",
   "execution_count": 30,
   "metadata": {
    "id": "ymI_NvgMliLq"
   },
   "outputs": [],
   "source": [
    "# Plot stock price predictions vs actuals\n",
    "def plot_predictions(actual, predicted, company_name):\n",
    "    plt.figure(figsize=(10, 6))\n",
    "    plt.plot(actual, color='blue', label='Actual Stock Price')\n",
    "    plt.plot(predicted, color='red', label='Predicted Stock Price')\n",
    "    plt.title(f'{company_name} Stock Price Prediction')\n",
    "    plt.xlabel('Time')\n",
    "    plt.ylabel('Stock Price')\n",
    "    plt.legend()\n",
    "    plt.show()\n"
   ]
  },
  {
   "cell_type": "code",
   "execution_count": null,
   "metadata": {
    "colab": {
     "base_uri": "https://localhost:8080/",
     "height": 564
    },
    "id": "zkzN-tgVliLq",
    "outputId": "5a68a81e-e24e-4909-f977-e3ce7fbb9b1a"
   },
   "outputs": [],
   "source": [
    "# Plot the results for Apple\n",
    "plot_predictions(actual_stock_prices, predicted_stock_prices, 'AAPL')"
   ]
  },
  {
   "cell_type": "code",
   "execution_count": 32,
   "metadata": {
    "id": "m4Dkhi3hliLq"
   },
   "outputs": [],
   "source": [
    "# Train the model and make predictions for each company\n",
    "def train_and_predict_for_company(ticker):\n",
    "    # Fetch stock data\n",
    "    stock_data = fetch_stock_data(ticker)"
   ]
  },
  {
   "cell_type": "code",
   "execution_count": 33,
   "metadata": {
    "id": "dOzoNsuxliLq"
   },
   "outputs": [],
   "source": [
    " # Split data into training and test sets (80% training, 20% testing)\n",
    "training_data_len = int(len(stock_data) * 0.8)\n",
    "training_data = stock_data[:training_data_len]\n",
    "test_data = stock_data[training_data_len:]"
   ]
  },
  {
   "cell_type": "code",
   "execution_count": 34,
   "metadata": {
    "id": "m1Kq6SUWliLq"
   },
   "outputs": [],
   "source": [
    "\n",
    "# Split the data into training and test sets\n",
    "training_data_len = int(len(stock_data) * 0.8)\n",
    "training_data = stock_data[:training_data_len]"
   ]
  },
  {
   "cell_type": "code",
   "execution_count": 35,
   "metadata": {
    "id": "dhsJaz4hliLq"
   },
   "outputs": [],
   "source": [
    "\n",
    "    # Get the actual stock prices (for plotting and comparison)\n",
    "actual_stock_prices = test_data['Close'][time_step:].values"
   ]
  },
  {
   "cell_type": "code",
   "execution_count": null,
   "metadata": {
    "colab": {
     "base_uri": "https://localhost:8080/"
    },
    "id": "D6leSKefliLr",
    "outputId": "25899c24-46f2-491b-c846-c32f7817403b"
   },
   "outputs": [],
   "source": [
    "# Main execution loop for all companies\n",
    "if __name__ == \"__main__\":\n",
    "    for company in companies:\n",
    "        print(f\"Training and predicting for {company}...\")\n",
    "        train_and_predict_for_company(company)\n",
    "\n",
    "\n"
   ]
  },
  {
   "cell_type": "markdown",
   "metadata": {
    "id": "cMkMr7a8liLr"
   },
   "source": [
    "10 day 50 day moving average"
   ]
  },
  {
   "cell_type": "code",
   "execution_count": 37,
   "metadata": {
    "id": "fLPKqICLliLs"
   },
   "outputs": [],
   "source": [
    "# Function to calculate technical indicators (e.g., moving averages)\n",
    "def add_technical_indicators(df):\n",
    "    df.loc[:, '10_day_MA'] = df['Close'].rolling(window=10).mean()  # 10-day moving average\n",
    "    df.loc[:, '50_day_MA'] = df['Close'].rolling(window=50).mean()  # 50-day moving average\n",
    "    df.loc[:, 'Volume'] = df['Volume']  # Volume data already exists\n",
    "    df = df.dropna()  # Drop rows with NaN values resulting from rolling windows\n",
    "    return df"
   ]
  },
  {
   "cell_type": "code",
   "execution_count": 38,
   "metadata": {
    "id": "JW-YDjXtliLs"
   },
   "outputs": [],
   "source": [
    "# Function to preprocess stock data for LSTM with multiple features\n",
    "def preprocess_data(stock_data, time_step=60):\n",
    "    # Normalize the data for each feature\n",
    "    scaler = MinMaxScaler(feature_range=(0, 1))\n",
    "    stock_data_scaled = scaler.fit_transform(stock_data)\n",
    "\n",
    "    X, y = [], []\n",
    "    for i in range(time_step, len(stock_data_scaled)):\n",
    "        X.append(stock_data_scaled[i - time_step:i])\n",
    "        y.append(stock_data_scaled[i, 0])  # Only predict the 'Close' price\n",
    "\n",
    "    X, y = np.array(X), np.array(y)\n",
    "    return X, y, scaler"
   ]
  },
  {
   "cell_type": "code",
   "execution_count": 39,
   "metadata": {
    "id": "VsK6S551liLs"
   },
   "outputs": [],
   "source": [
    "# Function to build the LSTM model\n",
    "def build_lstm_model(input_shape):\n",
    "    model = Sequential()\n",
    "    model.add(LSTM(units=50, return_sequences=True, input_shape=input_shape))\n",
    "    model.add(Dropout(0.2))\n",
    "    model.add(LSTM(units=50, return_sequences=False))\n",
    "    model.add(Dropout(0.2))\n",
    "    model.add(Dense(units=1))  # Output layer for stock price prediction\n",
    "    model.compile(optimizer='adam', loss='mean_squared_error')\n",
    "    return model"
   ]
  },
  {
   "cell_type": "code",
   "execution_count": 40,
   "metadata": {
    "id": "pc_fOdDCliLs"
   },
   "outputs": [],
   "source": [
    "# Function to plot the actual vs predicted stock prices\n",
    "def plot_predictions(actual, predicted, company_name):\n",
    "    plt.figure(figsize=(10, 6))\n",
    "    plt.plot(actual, color='blue', label='Actual Stock Price')\n",
    "    plt.plot(predicted, color='red', label='Predicted Stock Price')\n",
    "    plt.title(f'{company_name} Stock Price Prediction')\n",
    "    plt.xlabel('Time')\n",
    "    plt.ylabel('Stock Price')\n",
    "    plt.legend()\n",
    "    plt.show()\n"
   ]
  },
  {
   "cell_type": "code",
   "execution_count": 41,
   "metadata": {
    "id": "WxdEZW3tliLs"
   },
   "outputs": [],
   "source": [
    "# Function to train the model and predict for a given company\n",
    "def train_and_predict_for_company(company):\n",
    "    print(f\"Fetching data and training model for {company}...\")\n",
    "\n",
    "    # Fetch stock data using yfinance\n",
    "    stock_data = yf.download(company, start='2015-01-01', end='2023-01-01')\n",
    "    stock_data = stock_data[['Close', 'Volume']]  # Include 'Close' and 'Volume'\n",
    "\n",
    "    # Add technical indicators (e.g., moving averages)\n",
    "    stock_data = add_technical_indicators(stock_data)\n",
    "\n",
    "    # Split data into training and testing (80% training, 20% testing)\n",
    "    training_data_len = int(len(stock_data) * 0.8)\n",
    "    training_data = stock_data[:training_data_len]\n",
    "    testing_data = stock_data[training_data_len:]\n"
   ]
  },
  {
   "cell_type": "code",
   "execution_count": 42,
   "metadata": {
    "id": "Um8WycDQliLs"
   },
   "outputs": [],
   "source": [
    "# Preprocess training data\n",
    "time_step = 60\n",
    "X_train, y_train, scaler = preprocess_data(training_data, time_step)\n",
    "\n"
   ]
  },
  {
   "cell_type": "code",
   "execution_count": null,
   "metadata": {
    "colab": {
     "base_uri": "https://localhost:8080/"
    },
    "id": "IdFkXBMDliLs",
    "outputId": "eeee82ec-27ab-4249-ca53-31ad4bec3e0e"
   },
   "outputs": [],
   "source": [
    "# Build the LSTM model\n",
    "input_shape = (X_train.shape[1], X_train.shape[2])  # (time_step, num_features)\n",
    "model = build_lstm_model(input_shape)"
   ]
  },
  {
   "cell_type": "code",
   "execution_count": null,
   "metadata": {
    "colab": {
     "base_uri": "https://localhost:8080/"
    },
    "id": "gwX1juDsliLs",
    "outputId": "500a3afa-2d33-40d4-91f1-e610e9e0ad6e"
   },
   "outputs": [],
   "source": [
    "# Train the model\n",
    "model.fit(X_train, y_train, epochs=20, batch_size=32)"
   ]
  },
  {
   "cell_type": "code",
   "execution_count": null,
   "metadata": {
    "colab": {
     "base_uri": "https://localhost:8080/"
    },
    "id": "MexEnSY6liLt",
    "outputId": "41d89d0a-3870-4843-e8fb-7fda1e1ee778"
   },
   "outputs": [],
   "source": [
    "# Preprocess test data\n",
    "total_data = pd.concat((training_data, testing_data), axis=0)\n",
    "test_inputs = total_data[len(total_data) - len(testing_data) - time_step:].values\n",
    "test_inputs_scaled = scaler.transform(test_inputs)\n",
    "\n",
    "X_test = []\n",
    "for i in range(time_step, len(test_inputs_scaled)):\n",
    "        X_test.append(test_inputs_scaled[i - time_step:i])\n",
    "X_test = np.array(X_test)\n"
   ]
  },
  {
   "cell_type": "code",
   "execution_count": null,
   "metadata": {
    "colab": {
     "base_uri": "https://localhost:8080/"
    },
    "id": "fqIqVCOMliLt",
    "outputId": "83866628-1d2e-44df-9ec8-af9100831725"
   },
   "outputs": [],
   "source": [
    "# Predict the stock prices\n",
    "predicted_stock_prices = model.predict(X_test)\n",
    "predicted_stock_prices = scaler.inverse_transform(predicted_stock_prices)[:, 0]  # Only reverse the scaling for 'Close'\n"
   ]
  },
  {
   "cell_type": "code",
   "execution_count": 47,
   "metadata": {
    "id": "t-dczL_TliLt"
   },
   "outputs": [],
   "source": [
    "  # Get actual stock prices for comparison\n",
    "actual_stock_prices = testing_data['Close'].values"
   ]
  },
  {
   "cell_type": "code",
   "execution_count": null,
   "metadata": {
    "colab": {
     "base_uri": "https://localhost:8080/",
     "height": 564
    },
    "id": "n2oirSMgliLt",
    "outputId": "1da07a65-a766-437b-b1bb-4c57da5e0576"
   },
   "outputs": [],
   "source": [
    " # Plot the results\n",
    "plot_predictions(actual_stock_prices, predicted_stock_prices, company)"
   ]
  },
  {
   "cell_type": "markdown",
   "metadata": {
    "id": "cV_m89GdliLt"
   },
   "source": [
    "This code adds technical indicators to stock data:\n",
    "\n",
    "It computes the 10-day and 50-day moving averages to capture short-term and long-term price trends.\n",
    "The stock volume is retained as a feature.\n",
    "The code ensures safe modifications by working on a copy of the DataFrame and removes rows with missing values after the rolling calculations.\n",
    "The function enhances stock data for use in further analysis or machine learning models, such as predicting future stock prices."
   ]
  },
  {
   "cell_type": "code",
   "execution_count": 49,
   "metadata": {
    "id": "XiDmihn-liLt"
   },
   "outputs": [],
   "source": [
    "# Function to calculate technical indicators (e.g., moving averages)\n",
    "def add_technical_indicators(df):\n",
    "    # Make a copy of the DataFrame to avoid the SettingWithCopyWarning\n",
    "    df = df.copy()\n",
    "\n",
    "    # Add 10-day moving average\n",
    "    df['10_day_MA'] = df['Close'].rolling(window=10).mean()\n",
    "\n",
    "    # Add 50-day moving average\n",
    "    df['50_day_MA'] = df['Close'].rolling(window=50).mean()\n",
    "\n",
    "    # Add volume (no modification needed, just referencing existing data)\n",
    "    df['Volume'] = df['Volume']\n",
    "\n",
    "    # Drop rows with NaN values created by rolling windows\n",
    "    df = df.dropna()\n",
    "\n",
    "    return df"
   ]
  },
  {
   "cell_type": "code",
   "execution_count": null,
   "metadata": {
    "colab": {
     "base_uri": "https://localhost:8080/"
    },
    "id": "GhQXOSTvliLt",
    "outputId": "23c33c69-0a34-49ae-f347-64ef926de596"
   },
   "outputs": [],
   "source": [
    "# Main execution loop\n",
    "if __name__ == \"__main__\":\n",
    "    companies = ['AAPL', 'MSFT', 'GOOGL']  # List of companies\n",
    "    for company in companies:\n",
    "        print(f\"Training and predicting for {company}...\")\n",
    "        train_and_predict_for_company(company)"
   ]
  },
  {
   "cell_type": "markdown",
   "metadata": {
    "id": "LfAJ0-OdliLu"
   },
   "source": [
    "Summary: What the LSTM Model is Doing\n",
    "This Long Short-Term Memory (LSTM) model is designed to predict stock prices based on historical data (like the past closing prices, volume, and moving averages). It uses deep learning to analyze sequences of stock prices and learn temporal patterns over time.\n",
    "\n",
    "Key Steps the Model Performs:\n",
    "Data Collection:\n",
    "\n",
    "\n",
    "\n"
   ]
  },
  {
   "cell_type": "markdown",
   "metadata": {
    "id": "oddQCie7liLu"
   },
   "source": [
    "\n",
    "In Summary:\n",
    "Input: Past stock data (closing prices, volume, etc.).\n",
    "Output: Predicted future stock prices.\n",
    "Learning: Temporal patterns in stock prices using LSTM.\n",
    "Evaluation: Mean Absolute Error (MAE) and Mean Squared Error (MSE) on test data.\n",
    "Visualization: Actual vs. predicted prices plotted to assess performance."
   ]
  },
  {
   "cell_type": "code",
   "execution_count": 51,
   "metadata": {
    "id": "b1TnNgnvliLu"
   },
   "outputs": [],
   "source": [
    "# Preprocess the test data for X_test and y_test\n",
    "X_test = []\n",
    "y_test = []\n",
    "for i in range(time_step, len(test_inputs_scaled)):\n",
    "    X_test.append(test_inputs_scaled[i - time_step:i])\n",
    "    y_test.append(test_inputs_scaled[i, 0])  # Predict the 'Close' price\n",
    "\n",
    "X_test = np.array(X_test)\n",
    "y_test = np.array(y_test)"
   ]
  },
  {
   "cell_type": "code",
   "execution_count": null,
   "metadata": {
    "colab": {
     "base_uri": "https://localhost:8080/"
    },
    "id": "COCnUns0liLu",
    "outputId": "f6d026bf-73ee-4167-fde9-e1a79ecac59f"
   },
   "outputs": [],
   "source": [
    "# Compile the model\n",
    "model.compile(optimizer='adam', loss='mean_squared_error', metrics=['mae'])\n",
    "\n",
    "# Fit the model with training and validation data\n",
    "history = model.fit(X_train, y_train, validation_data=(X_test, y_test), epochs=50, batch_size=32)\n",
    "\n",
    "\n",
    "model.compile(optimizer='adam', loss='mean_squared_error', metrics=['mae'])"
   ]
  },
  {
   "cell_type": "code",
   "execution_count": null,
   "metadata": {
    "colab": {
     "base_uri": "https://localhost:8080/",
     "height": 472
    },
    "id": "zM0BsS9iliLu",
    "outputId": "e4e09907-7fe3-4634-a7a0-a103aed85f7d"
   },
   "outputs": [],
   "source": [
    "import matplotlib.pyplot as plt\n",
    "\n",
    "# Plot training & validation loss and MAE over epochs\n",
    "plt.plot(history.history['loss'], label='Train Loss')\n",
    "plt.plot(history.history['val_loss'], label='Val Loss')\n",
    "plt.plot(history.history['mae'], label='Train MAE')\n",
    "plt.plot(history.history['val_mae'], label='Val MAE')\n",
    "plt.title('Model Loss and MAE Over Epochs')\n",
    "plt.xlabel('Epochs')\n",
    "plt.ylabel('Loss / MAE')\n",
    "plt.legend()\n",
    "plt.show()"
   ]
  },
  {
   "cell_type": "markdown",
   "metadata": {},
   "source": [
    "Fetches recent stock news from Yahoo Finance using the yfinance library, then performs sentiment analysis on the fetched news headlines using a pre-trained Hugging Face model. Here's a breakdown of the main components Positive and Negative sentiment analysis Hugging Face Transformer Library"
   ]
  },
  {
   "cell_type": "code",
   "execution_count": 54,
   "metadata": {
    "id": "FAEYXvIaliLv"
   },
   "outputs": [],
   "source": [
    "# Import the Hugging Face pipeline for sentiment analysis\n",
    "from transformers import pipeline\n"
   ]
  },
  {
   "cell_type": "code",
   "execution_count": null,
   "metadata": {
    "colab": {
     "base_uri": "https://localhost:8080/",
     "height": 339,
     "referenced_widgets": [
      "a10bbae164874489af8f2efc9f3fa527",
      "05a7684e620f44188ee2727c99cfab4c",
      "1cc621c6bca34c0091730fe989b4d327",
      "abf15e5653d6488d8868afeedab5c66c",
      "3f1b936dc2c848aab5efa1c7d3eefadf",
      "be85e95f29e44b13a3c716ef796a9ea1",
      "1ce0dc87fc8647cd94478d9aff29f53d",
      "f8ec6cd82a264394a7d46fdbe92df031",
      "d1c6c747b4514e26855da812494072f0",
      "a1e56d6b8956460f9359a7d982442ab5",
      "9aa5b9539cad4355b5adbb94398a621b",
      "1f27953093924e3b80692889eaa07cc4",
      "c0b161f7a26a4008a5a107454b0837bc",
      "c7a2c055737b438589fcde70fe284bb9",
      "40df217f620c47f1add6420428eb10a6",
      "6bd5dee97d2042389ad2fa497bcdfb46",
      "7977a087e545479a9120a196972b059d",
      "f8b59fee9d754730b96a4328f2de47f6",
      "9e9f986d5cf142268b55cc0efd63d0ec",
      "274c526187864e6dab4942c9cbb676b2",
      "2e09f14e197140729cbb7d24d4c92ab0",
      "2c898595d4bc496d9db10aea33bd4881",
      "17270534aa3e420982e75b087b386134",
      "72ba4f186c1042d2b33da8711fa65234",
      "793fc608ed58462da212580920b8010e",
      "e70633eaa730434c9a5b5a1b076c82a7",
      "73ab3c88bac34b2a9d7670e52e2c7b66",
      "6dd8b6747f364931a9648dc722bd5080",
      "b07e52a6ddfd4dd2943b46404edb0d35",
      "9f0b7dd129984e6ea3fbaea02b615ade",
      "7bd66fc479154ea5bf9e33d470579796",
      "30ba1555d4254bc0af80ca0f00f6bb14",
      "37b778ee2f7849dd98327be290b4cf07",
      "51e3b8fb6f2240db9a3665b4881378ea",
      "c23ceaa61e8e4ea49ea0c2d7bc10c94b",
      "048a57d240064022a0a9ba88596b654b",
      "1c4818d709294bee93cea2b2678b2003",
      "11cf1483ba2b44988933f8ef794e5eb3",
      "0bed5012c0f34d3db75bd546b602d09e",
      "ea09fbb16d5b4fd0a62ff3e7c13ee486",
      "adf8a67d312b4974877441bf60d9ff9c",
      "ec71ad143b144c008ed679e37553792d",
      "717af86ba67c4b8cb8b1a4b788487dbd",
      "c9fcc63f8a2344f3b1c70796abeb2984"
     ]
    },
    "id": "bUklQ2ealiLv",
    "outputId": "cc1d01c1-cbdc-470c-cf7c-b86389c1ce95"
   },
   "outputs": [],
   "source": [
    "# Initialize the sentiment analysis pipeline\n",
    "sentiment_analysis = pipeline(\"sentiment-analysis\")\n"
   ]
  },
  {
   "cell_type": "code",
   "execution_count": 56,
   "metadata": {
    "id": "dJtwDFPsliLv"
   },
   "outputs": [],
   "source": [
    "# Example texts to analyze sentiment\n",
    "texts = [\n",
    "    \"The stock market is performing really well today!\",\n",
    "    \"I'm very disappointed with the company's financial results.\",\n",
    "    \"The product launch was a huge success!\",\n",
    "    \"Investors are worried about the economic outlook.\"\n",
    "]"
   ]
  },
  {
   "cell_type": "code",
   "execution_count": 57,
   "metadata": {
    "id": "YAI45KeQliLv"
   },
   "outputs": [],
   "source": [
    "\n",
    "# Perform sentiment analysis on the texts\n",
    "results = sentiment_analysis(texts)\n"
   ]
  },
  {
   "cell_type": "code",
   "execution_count": null,
   "metadata": {
    "colab": {
     "base_uri": "https://localhost:8080/"
    },
    "id": "YFljozcnliLv",
    "outputId": "bbd92e04-a12f-4f08-ca66-70254eb9a4bb"
   },
   "outputs": [],
   "source": [
    "# Print out the results\n",
    "for i, text in enumerate(texts):\n",
    "    print(f\"Text: {text}\")\n",
    "    print(f\"Sentiment: {results[i]['label']}, Score: {results[i]['score']:.4f}\")\n",
    "    print(\"----------------------------------------------------\")"
   ]
  },
  {
   "cell_type": "code",
   "execution_count": 59,
   "metadata": {
    "id": "KYfmMjs5liLv"
   },
   "outputs": [],
   "source": [
    "import yfinance as yf\n",
    "from transformers import pipeline"
   ]
  },
  {
   "cell_type": "code",
   "execution_count": null,
   "metadata": {
    "colab": {
     "base_uri": "https://localhost:8080/"
    },
    "id": "v1ppthsbliLv",
    "outputId": "fe9e020e-3f1f-485d-adc6-8c9257bc0850"
   },
   "outputs": [],
   "source": [
    "\n",
    "# Initialize the sentiment analysis pipeline from Hugging Face\n",
    "sentiment_analysis = pipeline(\"sentiment-analysis\")"
   ]
  },
  {
   "cell_type": "code",
   "execution_count": 61,
   "metadata": {
    "id": "dpRlo6NUliLv"
   },
   "outputs": [],
   "source": [
    "# Function to fetch recent stock-related news using yfinance\n",
    "def fetch_stock_news(stock_symbol, num_articles=5):\n",
    "    stock = yf.Ticker(stock_symbol)\n",
    "    news = stock.news  # Get stock news\n",
    "\n",
    "    if not news:\n",
    "        return []  # Return an empty list if no news is available\n",
    "\n",
    "    # Extract top `num_articles` news articles\n",
    "    news_headlines = [article['title'] for article in news[:num_articles]]\n",
    "    return news_headlines"
   ]
  },
  {
   "cell_type": "code",
   "execution_count": 62,
   "metadata": {
    "id": "8Nm0_f3_liLv"
   },
   "outputs": [],
   "source": [
    " # Perform sentiment analysis on stock news headlines\n",
    "def analyze_sentiment_on_news(stock_symbol, num_articles=5):\n",
    "    # Fetch stock news\n",
    "    headlines = fetch_stock_news(stock_symbol, num_articles)\n",
    "\n",
    "    # Check if headlines are available\n",
    "    if not headlines:\n",
    "        print(f\"No news found for {stock_symbol}\")\n",
    "        return\n",
    "\n",
    "    print(f\"News headlines for {stock_symbol}:\\n\")\n",
    "\n",
    "    # Perform sentiment analysis on each headline\n",
    "    results = sentiment_analysis(headlines)\n",
    "\n",
    "    # Print results\n",
    "    for i, headline in enumerate(headlines):\n",
    "        sentiment = results[i]['label']\n",
    "        score = results[i]['score']\n",
    "        print(f\"Headline: {headline}\")\n",
    "        print(f\"Sentiment: {sentiment}, Score: {score:.4f}\")\n",
    "        print(\"----------------------------------------------------\")\n",
    "\n"
   ]
  },
  {
   "cell_type": "code",
   "execution_count": null,
   "metadata": {
    "colab": {
     "base_uri": "https://localhost:8080/"
    },
    "id": "tA1EHTu9liLv",
    "outputId": "dca00511-2aa2-49f0-e1ce-3a48a414e88c"
   },
   "outputs": [],
   "source": [
    "# Example: Analyze sentiment on Apple (AAPL) stock news\n",
    "stock_symbol = \"AAPL\"\n",
    "analyze_sentiment_on_news(stock_symbol, num_articles=5)"
   ]
  },
  {
   "cell_type": "code",
   "execution_count": null,
   "metadata": {
    "colab": {
     "base_uri": "https://localhost:8080/"
    },
    "id": "f9tmAGaDpfyb",
    "outputId": "fb7865c9-cd97-4c54-9236-94585f2812c6"
   },
   "outputs": [],
   "source": [
    " #Example: Analyze sentiment on Google (GOOGL) stock news\n",
    "stock_symbol = \"GOOGL\"\n",
    "analyze_sentiment_on_news(stock_symbol, num_articles=5)"
   ]
  },
  {
   "cell_type": "code",
   "execution_count": null,
   "metadata": {
    "colab": {
     "base_uri": "https://localhost:8080/"
    },
    "id": "bSOkrAFyp4u-",
    "outputId": "d841ff4d-ee15-4398-9ae4-bceeca501fb1"
   },
   "outputs": [],
   "source": [
    "#Example: Analyze sentiment on Nvidia (NVDA) stock news\n",
    "stock_symbol = \"NVDA\"\n",
    "analyze_sentiment_on_news(stock_symbol, num_articles=5)"
   ]
  },
  {
   "cell_type": "code",
   "execution_count": 66,
   "metadata": {},
   "outputs": [],
   "source": [
    "import yfinance as yf\n",
    "from transformers import pipeline\n",
    "import gradio as gr\n"
   ]
  },
  {
   "cell_type": "code",
   "execution_count": null,
   "metadata": {},
   "outputs": [],
   "source": [
    "\n",
    "# Initialize the sentiment analysis pipeline from Hugging Face\n",
    "sentiment_analysis = pipeline(\"sentiment-analysis\")"
   ]
  },
  {
   "cell_type": "code",
   "execution_count": 68,
   "metadata": {},
   "outputs": [],
   "source": [
    "\n",
    "# Function to fetch recent stock-related news using yfinance # Get stock news  # Return an empty list if no news is available\n",
    "def fetch_stock_news(stock_symbol, num_articles=5):\n",
    "    stock = yf.Ticker(stock_symbol)\n",
    "    news = stock.news  \n",
    "    \n",
    "    if not news:\n",
    "        return [] \n",
    "    \n",
    "    # Extract top `num_articles` news articles\n",
    "    news_headlines = [article['title'] for article in news[:num_articles]]\n",
    "    return news_headlines\n"
   ]
  },
  {
   "cell_type": "code",
   "execution_count": 69,
   "metadata": {},
   "outputs": [],
   "source": [
    "# Gradio interface function\n",
    "def gradio_interface(stock_symbol, num_articles):\n",
    "    return analyze_sentiment_on_news(stock_symbol, num_articles)\n",
    "\n",
    "# Create Gradio interface with the updated components # Function to run # Output will be text\n",
    "iface = gr.Interface(\n",
    "    fn=gradio_interface,  \n",
    "    inputs=[gr.Textbox(label=\"Stock Symbol\", placeholder=\"AAPL\"), \n",
    "            gr.Slider(1, 10, value=5, label=\"Number of News Articles\")],\n",
    "    outputs=gr.Textbox(),  \n",
    "    title=\"Stock News Analysis\",\n",
    "    description=\"Enter a stock symbol (e.g., AAPL) and the number of news articles to analyze.\"\n",
    ")\n"
   ]
  },
  {
   "cell_type": "code",
   "execution_count": null,
   "metadata": {},
   "outputs": [],
   "source": [
    "\n",
    "# Launch the Gradio interface #public link  = iface.launch(share=True)\n",
    "iface.launch(share=True)"
   ]
  },
  {
   "cell_type": "code",
   "execution_count": 1,
   "metadata": {},
   "outputs": [],
   "source": [
    "from langchain_huggingface import ChatHuggingFace\n",
    "from langchain_huggingface import HuggingFaceEndpoint\n",
    "from langchain_huggingface import HuggingFacePipeline"
   ]
  },
  {
   "cell_type": "code",
   "execution_count": 2,
   "metadata": {},
   "outputs": [
    {
     "name": "stderr",
     "output_type": "stream",
     "text": [
      "You are using the default legacy behaviour of the <class 'transformers.models.llama.tokenization_llama_fast.LlamaTokenizerFast'>. This is expected, and simply means that the `legacy` (previous) behavior will be used so nothing changes for you. If you want to use the new behaviour, set `legacy=False`. This should only be set if you understand what it means, and thoroughly read the reason why this was added as explained in https://github.com/huggingface/transformers/pull/24565 - if you loaded a llama tokenizer from a GGUF file you can ignore this message.\n"
     ]
    }
   ],
   "source": [
    "# Use a pipeline as a high-level helper\n",
    "from transformers import pipeline\n",
    "\n",
    "pipe = pipeline(\"text-generation\", model=\"ByteWave/prompt-generator\")"
   ]
  }
 ],
 "metadata": {
  "colab": {
   "provenance": []
  },
  "kernelspec": {
   "display_name": "dev",
   "language": "python",
   "name": "python3"
  },
  "language_info": {
   "codemirror_mode": {
    "name": "ipython",
    "version": 3
   },
   "file_extension": ".py",
   "mimetype": "text/x-python",
   "name": "python",
   "nbconvert_exporter": "python",
   "pygments_lexer": "ipython3",
   "version": "3.10.14"
  },
  "widgets": {
   "application/vnd.jupyter.widget-state+json": {
    "048a57d240064022a0a9ba88596b654b": {
     "model_module": "@jupyter-widgets/controls",
     "model_module_version": "1.5.0",
     "model_name": "FloatProgressModel",
     "state": {
      "_dom_classes": [],
      "_model_module": "@jupyter-widgets/controls",
      "_model_module_version": "1.5.0",
      "_model_name": "FloatProgressModel",
      "_view_count": null,
      "_view_module": "@jupyter-widgets/controls",
      "_view_module_version": "1.5.0",
      "_view_name": "ProgressView",
      "bar_style": "success",
      "description": "",
      "description_tooltip": null,
      "layout": "IPY_MODEL_adf8a67d312b4974877441bf60d9ff9c",
      "max": 231508,
      "min": 0,
      "orientation": "horizontal",
      "style": "IPY_MODEL_ec71ad143b144c008ed679e37553792d",
      "value": 231508
     }
    },
    "05a7684e620f44188ee2727c99cfab4c": {
     "model_module": "@jupyter-widgets/controls",
     "model_module_version": "1.5.0",
     "model_name": "HTMLModel",
     "state": {
      "_dom_classes": [],
      "_model_module": "@jupyter-widgets/controls",
      "_model_module_version": "1.5.0",
      "_model_name": "HTMLModel",
      "_view_count": null,
      "_view_module": "@jupyter-widgets/controls",
      "_view_module_version": "1.5.0",
      "_view_name": "HTMLView",
      "description": "",
      "description_tooltip": null,
      "layout": "IPY_MODEL_be85e95f29e44b13a3c716ef796a9ea1",
      "placeholder": "​",
      "style": "IPY_MODEL_1ce0dc87fc8647cd94478d9aff29f53d",
      "value": "config.json: 100%"
     }
    },
    "0bed5012c0f34d3db75bd546b602d09e": {
     "model_module": "@jupyter-widgets/base",
     "model_module_version": "1.2.0",
     "model_name": "LayoutModel",
     "state": {
      "_model_module": "@jupyter-widgets/base",
      "_model_module_version": "1.2.0",
      "_model_name": "LayoutModel",
      "_view_count": null,
      "_view_module": "@jupyter-widgets/base",
      "_view_module_version": "1.2.0",
      "_view_name": "LayoutView",
      "align_content": null,
      "align_items": null,
      "align_self": null,
      "border": null,
      "bottom": null,
      "display": null,
      "flex": null,
      "flex_flow": null,
      "grid_area": null,
      "grid_auto_columns": null,
      "grid_auto_flow": null,
      "grid_auto_rows": null,
      "grid_column": null,
      "grid_gap": null,
      "grid_row": null,
      "grid_template_areas": null,
      "grid_template_columns": null,
      "grid_template_rows": null,
      "height": null,
      "justify_content": null,
      "justify_items": null,
      "left": null,
      "margin": null,
      "max_height": null,
      "max_width": null,
      "min_height": null,
      "min_width": null,
      "object_fit": null,
      "object_position": null,
      "order": null,
      "overflow": null,
      "overflow_x": null,
      "overflow_y": null,
      "padding": null,
      "right": null,
      "top": null,
      "visibility": null,
      "width": null
     }
    },
    "11cf1483ba2b44988933f8ef794e5eb3": {
     "model_module": "@jupyter-widgets/base",
     "model_module_version": "1.2.0",
     "model_name": "LayoutModel",
     "state": {
      "_model_module": "@jupyter-widgets/base",
      "_model_module_version": "1.2.0",
      "_model_name": "LayoutModel",
      "_view_count": null,
      "_view_module": "@jupyter-widgets/base",
      "_view_module_version": "1.2.0",
      "_view_name": "LayoutView",
      "align_content": null,
      "align_items": null,
      "align_self": null,
      "border": null,
      "bottom": null,
      "display": null,
      "flex": null,
      "flex_flow": null,
      "grid_area": null,
      "grid_auto_columns": null,
      "grid_auto_flow": null,
      "grid_auto_rows": null,
      "grid_column": null,
      "grid_gap": null,
      "grid_row": null,
      "grid_template_areas": null,
      "grid_template_columns": null,
      "grid_template_rows": null,
      "height": null,
      "justify_content": null,
      "justify_items": null,
      "left": null,
      "margin": null,
      "max_height": null,
      "max_width": null,
      "min_height": null,
      "min_width": null,
      "object_fit": null,
      "object_position": null,
      "order": null,
      "overflow": null,
      "overflow_x": null,
      "overflow_y": null,
      "padding": null,
      "right": null,
      "top": null,
      "visibility": null,
      "width": null
     }
    },
    "17270534aa3e420982e75b087b386134": {
     "model_module": "@jupyter-widgets/controls",
     "model_module_version": "1.5.0",
     "model_name": "HBoxModel",
     "state": {
      "_dom_classes": [],
      "_model_module": "@jupyter-widgets/controls",
      "_model_module_version": "1.5.0",
      "_model_name": "HBoxModel",
      "_view_count": null,
      "_view_module": "@jupyter-widgets/controls",
      "_view_module_version": "1.5.0",
      "_view_name": "HBoxView",
      "box_style": "",
      "children": [
       "IPY_MODEL_72ba4f186c1042d2b33da8711fa65234",
       "IPY_MODEL_793fc608ed58462da212580920b8010e",
       "IPY_MODEL_e70633eaa730434c9a5b5a1b076c82a7"
      ],
      "layout": "IPY_MODEL_73ab3c88bac34b2a9d7670e52e2c7b66"
     }
    },
    "1c4818d709294bee93cea2b2678b2003": {
     "model_module": "@jupyter-widgets/controls",
     "model_module_version": "1.5.0",
     "model_name": "HTMLModel",
     "state": {
      "_dom_classes": [],
      "_model_module": "@jupyter-widgets/controls",
      "_model_module_version": "1.5.0",
      "_model_name": "HTMLModel",
      "_view_count": null,
      "_view_module": "@jupyter-widgets/controls",
      "_view_module_version": "1.5.0",
      "_view_name": "HTMLView",
      "description": "",
      "description_tooltip": null,
      "layout": "IPY_MODEL_717af86ba67c4b8cb8b1a4b788487dbd",
      "placeholder": "​",
      "style": "IPY_MODEL_c9fcc63f8a2344f3b1c70796abeb2984",
      "value": " 232k/232k [00:00&lt;00:00, 2.72MB/s]"
     }
    },
    "1cc621c6bca34c0091730fe989b4d327": {
     "model_module": "@jupyter-widgets/controls",
     "model_module_version": "1.5.0",
     "model_name": "FloatProgressModel",
     "state": {
      "_dom_classes": [],
      "_model_module": "@jupyter-widgets/controls",
      "_model_module_version": "1.5.0",
      "_model_name": "FloatProgressModel",
      "_view_count": null,
      "_view_module": "@jupyter-widgets/controls",
      "_view_module_version": "1.5.0",
      "_view_name": "ProgressView",
      "bar_style": "success",
      "description": "",
      "description_tooltip": null,
      "layout": "IPY_MODEL_f8ec6cd82a264394a7d46fdbe92df031",
      "max": 629,
      "min": 0,
      "orientation": "horizontal",
      "style": "IPY_MODEL_d1c6c747b4514e26855da812494072f0",
      "value": 629
     }
    },
    "1ce0dc87fc8647cd94478d9aff29f53d": {
     "model_module": "@jupyter-widgets/controls",
     "model_module_version": "1.5.0",
     "model_name": "DescriptionStyleModel",
     "state": {
      "_model_module": "@jupyter-widgets/controls",
      "_model_module_version": "1.5.0",
      "_model_name": "DescriptionStyleModel",
      "_view_count": null,
      "_view_module": "@jupyter-widgets/base",
      "_view_module_version": "1.2.0",
      "_view_name": "StyleView",
      "description_width": ""
     }
    },
    "1f27953093924e3b80692889eaa07cc4": {
     "model_module": "@jupyter-widgets/controls",
     "model_module_version": "1.5.0",
     "model_name": "HBoxModel",
     "state": {
      "_dom_classes": [],
      "_model_module": "@jupyter-widgets/controls",
      "_model_module_version": "1.5.0",
      "_model_name": "HBoxModel",
      "_view_count": null,
      "_view_module": "@jupyter-widgets/controls",
      "_view_module_version": "1.5.0",
      "_view_name": "HBoxView",
      "box_style": "",
      "children": [
       "IPY_MODEL_c0b161f7a26a4008a5a107454b0837bc",
       "IPY_MODEL_c7a2c055737b438589fcde70fe284bb9",
       "IPY_MODEL_40df217f620c47f1add6420428eb10a6"
      ],
      "layout": "IPY_MODEL_6bd5dee97d2042389ad2fa497bcdfb46"
     }
    },
    "274c526187864e6dab4942c9cbb676b2": {
     "model_module": "@jupyter-widgets/controls",
     "model_module_version": "1.5.0",
     "model_name": "ProgressStyleModel",
     "state": {
      "_model_module": "@jupyter-widgets/controls",
      "_model_module_version": "1.5.0",
      "_model_name": "ProgressStyleModel",
      "_view_count": null,
      "_view_module": "@jupyter-widgets/base",
      "_view_module_version": "1.2.0",
      "_view_name": "StyleView",
      "bar_color": null,
      "description_width": ""
     }
    },
    "2c898595d4bc496d9db10aea33bd4881": {
     "model_module": "@jupyter-widgets/controls",
     "model_module_version": "1.5.0",
     "model_name": "DescriptionStyleModel",
     "state": {
      "_model_module": "@jupyter-widgets/controls",
      "_model_module_version": "1.5.0",
      "_model_name": "DescriptionStyleModel",
      "_view_count": null,
      "_view_module": "@jupyter-widgets/base",
      "_view_module_version": "1.2.0",
      "_view_name": "StyleView",
      "description_width": ""
     }
    },
    "2e09f14e197140729cbb7d24d4c92ab0": {
     "model_module": "@jupyter-widgets/base",
     "model_module_version": "1.2.0",
     "model_name": "LayoutModel",
     "state": {
      "_model_module": "@jupyter-widgets/base",
      "_model_module_version": "1.2.0",
      "_model_name": "LayoutModel",
      "_view_count": null,
      "_view_module": "@jupyter-widgets/base",
      "_view_module_version": "1.2.0",
      "_view_name": "LayoutView",
      "align_content": null,
      "align_items": null,
      "align_self": null,
      "border": null,
      "bottom": null,
      "display": null,
      "flex": null,
      "flex_flow": null,
      "grid_area": null,
      "grid_auto_columns": null,
      "grid_auto_flow": null,
      "grid_auto_rows": null,
      "grid_column": null,
      "grid_gap": null,
      "grid_row": null,
      "grid_template_areas": null,
      "grid_template_columns": null,
      "grid_template_rows": null,
      "height": null,
      "justify_content": null,
      "justify_items": null,
      "left": null,
      "margin": null,
      "max_height": null,
      "max_width": null,
      "min_height": null,
      "min_width": null,
      "object_fit": null,
      "object_position": null,
      "order": null,
      "overflow": null,
      "overflow_x": null,
      "overflow_y": null,
      "padding": null,
      "right": null,
      "top": null,
      "visibility": null,
      "width": null
     }
    },
    "30ba1555d4254bc0af80ca0f00f6bb14": {
     "model_module": "@jupyter-widgets/base",
     "model_module_version": "1.2.0",
     "model_name": "LayoutModel",
     "state": {
      "_model_module": "@jupyter-widgets/base",
      "_model_module_version": "1.2.0",
      "_model_name": "LayoutModel",
      "_view_count": null,
      "_view_module": "@jupyter-widgets/base",
      "_view_module_version": "1.2.0",
      "_view_name": "LayoutView",
      "align_content": null,
      "align_items": null,
      "align_self": null,
      "border": null,
      "bottom": null,
      "display": null,
      "flex": null,
      "flex_flow": null,
      "grid_area": null,
      "grid_auto_columns": null,
      "grid_auto_flow": null,
      "grid_auto_rows": null,
      "grid_column": null,
      "grid_gap": null,
      "grid_row": null,
      "grid_template_areas": null,
      "grid_template_columns": null,
      "grid_template_rows": null,
      "height": null,
      "justify_content": null,
      "justify_items": null,
      "left": null,
      "margin": null,
      "max_height": null,
      "max_width": null,
      "min_height": null,
      "min_width": null,
      "object_fit": null,
      "object_position": null,
      "order": null,
      "overflow": null,
      "overflow_x": null,
      "overflow_y": null,
      "padding": null,
      "right": null,
      "top": null,
      "visibility": null,
      "width": null
     }
    },
    "37b778ee2f7849dd98327be290b4cf07": {
     "model_module": "@jupyter-widgets/controls",
     "model_module_version": "1.5.0",
     "model_name": "DescriptionStyleModel",
     "state": {
      "_model_module": "@jupyter-widgets/controls",
      "_model_module_version": "1.5.0",
      "_model_name": "DescriptionStyleModel",
      "_view_count": null,
      "_view_module": "@jupyter-widgets/base",
      "_view_module_version": "1.2.0",
      "_view_name": "StyleView",
      "description_width": ""
     }
    },
    "3f1b936dc2c848aab5efa1c7d3eefadf": {
     "model_module": "@jupyter-widgets/base",
     "model_module_version": "1.2.0",
     "model_name": "LayoutModel",
     "state": {
      "_model_module": "@jupyter-widgets/base",
      "_model_module_version": "1.2.0",
      "_model_name": "LayoutModel",
      "_view_count": null,
      "_view_module": "@jupyter-widgets/base",
      "_view_module_version": "1.2.0",
      "_view_name": "LayoutView",
      "align_content": null,
      "align_items": null,
      "align_self": null,
      "border": null,
      "bottom": null,
      "display": null,
      "flex": null,
      "flex_flow": null,
      "grid_area": null,
      "grid_auto_columns": null,
      "grid_auto_flow": null,
      "grid_auto_rows": null,
      "grid_column": null,
      "grid_gap": null,
      "grid_row": null,
      "grid_template_areas": null,
      "grid_template_columns": null,
      "grid_template_rows": null,
      "height": null,
      "justify_content": null,
      "justify_items": null,
      "left": null,
      "margin": null,
      "max_height": null,
      "max_width": null,
      "min_height": null,
      "min_width": null,
      "object_fit": null,
      "object_position": null,
      "order": null,
      "overflow": null,
      "overflow_x": null,
      "overflow_y": null,
      "padding": null,
      "right": null,
      "top": null,
      "visibility": null,
      "width": null
     }
    },
    "40df217f620c47f1add6420428eb10a6": {
     "model_module": "@jupyter-widgets/controls",
     "model_module_version": "1.5.0",
     "model_name": "HTMLModel",
     "state": {
      "_dom_classes": [],
      "_model_module": "@jupyter-widgets/controls",
      "_model_module_version": "1.5.0",
      "_model_name": "HTMLModel",
      "_view_count": null,
      "_view_module": "@jupyter-widgets/controls",
      "_view_module_version": "1.5.0",
      "_view_name": "HTMLView",
      "description": "",
      "description_tooltip": null,
      "layout": "IPY_MODEL_2e09f14e197140729cbb7d24d4c92ab0",
      "placeholder": "​",
      "style": "IPY_MODEL_2c898595d4bc496d9db10aea33bd4881",
      "value": " 268M/268M [00:05&lt;00:00, 104MB/s]"
     }
    },
    "51e3b8fb6f2240db9a3665b4881378ea": {
     "model_module": "@jupyter-widgets/controls",
     "model_module_version": "1.5.0",
     "model_name": "HBoxModel",
     "state": {
      "_dom_classes": [],
      "_model_module": "@jupyter-widgets/controls",
      "_model_module_version": "1.5.0",
      "_model_name": "HBoxModel",
      "_view_count": null,
      "_view_module": "@jupyter-widgets/controls",
      "_view_module_version": "1.5.0",
      "_view_name": "HBoxView",
      "box_style": "",
      "children": [
       "IPY_MODEL_c23ceaa61e8e4ea49ea0c2d7bc10c94b",
       "IPY_MODEL_048a57d240064022a0a9ba88596b654b",
       "IPY_MODEL_1c4818d709294bee93cea2b2678b2003"
      ],
      "layout": "IPY_MODEL_11cf1483ba2b44988933f8ef794e5eb3"
     }
    },
    "6bd5dee97d2042389ad2fa497bcdfb46": {
     "model_module": "@jupyter-widgets/base",
     "model_module_version": "1.2.0",
     "model_name": "LayoutModel",
     "state": {
      "_model_module": "@jupyter-widgets/base",
      "_model_module_version": "1.2.0",
      "_model_name": "LayoutModel",
      "_view_count": null,
      "_view_module": "@jupyter-widgets/base",
      "_view_module_version": "1.2.0",
      "_view_name": "LayoutView",
      "align_content": null,
      "align_items": null,
      "align_self": null,
      "border": null,
      "bottom": null,
      "display": null,
      "flex": null,
      "flex_flow": null,
      "grid_area": null,
      "grid_auto_columns": null,
      "grid_auto_flow": null,
      "grid_auto_rows": null,
      "grid_column": null,
      "grid_gap": null,
      "grid_row": null,
      "grid_template_areas": null,
      "grid_template_columns": null,
      "grid_template_rows": null,
      "height": null,
      "justify_content": null,
      "justify_items": null,
      "left": null,
      "margin": null,
      "max_height": null,
      "max_width": null,
      "min_height": null,
      "min_width": null,
      "object_fit": null,
      "object_position": null,
      "order": null,
      "overflow": null,
      "overflow_x": null,
      "overflow_y": null,
      "padding": null,
      "right": null,
      "top": null,
      "visibility": null,
      "width": null
     }
    },
    "6dd8b6747f364931a9648dc722bd5080": {
     "model_module": "@jupyter-widgets/base",
     "model_module_version": "1.2.0",
     "model_name": "LayoutModel",
     "state": {
      "_model_module": "@jupyter-widgets/base",
      "_model_module_version": "1.2.0",
      "_model_name": "LayoutModel",
      "_view_count": null,
      "_view_module": "@jupyter-widgets/base",
      "_view_module_version": "1.2.0",
      "_view_name": "LayoutView",
      "align_content": null,
      "align_items": null,
      "align_self": null,
      "border": null,
      "bottom": null,
      "display": null,
      "flex": null,
      "flex_flow": null,
      "grid_area": null,
      "grid_auto_columns": null,
      "grid_auto_flow": null,
      "grid_auto_rows": null,
      "grid_column": null,
      "grid_gap": null,
      "grid_row": null,
      "grid_template_areas": null,
      "grid_template_columns": null,
      "grid_template_rows": null,
      "height": null,
      "justify_content": null,
      "justify_items": null,
      "left": null,
      "margin": null,
      "max_height": null,
      "max_width": null,
      "min_height": null,
      "min_width": null,
      "object_fit": null,
      "object_position": null,
      "order": null,
      "overflow": null,
      "overflow_x": null,
      "overflow_y": null,
      "padding": null,
      "right": null,
      "top": null,
      "visibility": null,
      "width": null
     }
    },
    "717af86ba67c4b8cb8b1a4b788487dbd": {
     "model_module": "@jupyter-widgets/base",
     "model_module_version": "1.2.0",
     "model_name": "LayoutModel",
     "state": {
      "_model_module": "@jupyter-widgets/base",
      "_model_module_version": "1.2.0",
      "_model_name": "LayoutModel",
      "_view_count": null,
      "_view_module": "@jupyter-widgets/base",
      "_view_module_version": "1.2.0",
      "_view_name": "LayoutView",
      "align_content": null,
      "align_items": null,
      "align_self": null,
      "border": null,
      "bottom": null,
      "display": null,
      "flex": null,
      "flex_flow": null,
      "grid_area": null,
      "grid_auto_columns": null,
      "grid_auto_flow": null,
      "grid_auto_rows": null,
      "grid_column": null,
      "grid_gap": null,
      "grid_row": null,
      "grid_template_areas": null,
      "grid_template_columns": null,
      "grid_template_rows": null,
      "height": null,
      "justify_content": null,
      "justify_items": null,
      "left": null,
      "margin": null,
      "max_height": null,
      "max_width": null,
      "min_height": null,
      "min_width": null,
      "object_fit": null,
      "object_position": null,
      "order": null,
      "overflow": null,
      "overflow_x": null,
      "overflow_y": null,
      "padding": null,
      "right": null,
      "top": null,
      "visibility": null,
      "width": null
     }
    },
    "72ba4f186c1042d2b33da8711fa65234": {
     "model_module": "@jupyter-widgets/controls",
     "model_module_version": "1.5.0",
     "model_name": "HTMLModel",
     "state": {
      "_dom_classes": [],
      "_model_module": "@jupyter-widgets/controls",
      "_model_module_version": "1.5.0",
      "_model_name": "HTMLModel",
      "_view_count": null,
      "_view_module": "@jupyter-widgets/controls",
      "_view_module_version": "1.5.0",
      "_view_name": "HTMLView",
      "description": "",
      "description_tooltip": null,
      "layout": "IPY_MODEL_6dd8b6747f364931a9648dc722bd5080",
      "placeholder": "​",
      "style": "IPY_MODEL_b07e52a6ddfd4dd2943b46404edb0d35",
      "value": "tokenizer_config.json: 100%"
     }
    },
    "73ab3c88bac34b2a9d7670e52e2c7b66": {
     "model_module": "@jupyter-widgets/base",
     "model_module_version": "1.2.0",
     "model_name": "LayoutModel",
     "state": {
      "_model_module": "@jupyter-widgets/base",
      "_model_module_version": "1.2.0",
      "_model_name": "LayoutModel",
      "_view_count": null,
      "_view_module": "@jupyter-widgets/base",
      "_view_module_version": "1.2.0",
      "_view_name": "LayoutView",
      "align_content": null,
      "align_items": null,
      "align_self": null,
      "border": null,
      "bottom": null,
      "display": null,
      "flex": null,
      "flex_flow": null,
      "grid_area": null,
      "grid_auto_columns": null,
      "grid_auto_flow": null,
      "grid_auto_rows": null,
      "grid_column": null,
      "grid_gap": null,
      "grid_row": null,
      "grid_template_areas": null,
      "grid_template_columns": null,
      "grid_template_rows": null,
      "height": null,
      "justify_content": null,
      "justify_items": null,
      "left": null,
      "margin": null,
      "max_height": null,
      "max_width": null,
      "min_height": null,
      "min_width": null,
      "object_fit": null,
      "object_position": null,
      "order": null,
      "overflow": null,
      "overflow_x": null,
      "overflow_y": null,
      "padding": null,
      "right": null,
      "top": null,
      "visibility": null,
      "width": null
     }
    },
    "793fc608ed58462da212580920b8010e": {
     "model_module": "@jupyter-widgets/controls",
     "model_module_version": "1.5.0",
     "model_name": "FloatProgressModel",
     "state": {
      "_dom_classes": [],
      "_model_module": "@jupyter-widgets/controls",
      "_model_module_version": "1.5.0",
      "_model_name": "FloatProgressModel",
      "_view_count": null,
      "_view_module": "@jupyter-widgets/controls",
      "_view_module_version": "1.5.0",
      "_view_name": "ProgressView",
      "bar_style": "success",
      "description": "",
      "description_tooltip": null,
      "layout": "IPY_MODEL_9f0b7dd129984e6ea3fbaea02b615ade",
      "max": 48,
      "min": 0,
      "orientation": "horizontal",
      "style": "IPY_MODEL_7bd66fc479154ea5bf9e33d470579796",
      "value": 48
     }
    },
    "7977a087e545479a9120a196972b059d": {
     "model_module": "@jupyter-widgets/base",
     "model_module_version": "1.2.0",
     "model_name": "LayoutModel",
     "state": {
      "_model_module": "@jupyter-widgets/base",
      "_model_module_version": "1.2.0",
      "_model_name": "LayoutModel",
      "_view_count": null,
      "_view_module": "@jupyter-widgets/base",
      "_view_module_version": "1.2.0",
      "_view_name": "LayoutView",
      "align_content": null,
      "align_items": null,
      "align_self": null,
      "border": null,
      "bottom": null,
      "display": null,
      "flex": null,
      "flex_flow": null,
      "grid_area": null,
      "grid_auto_columns": null,
      "grid_auto_flow": null,
      "grid_auto_rows": null,
      "grid_column": null,
      "grid_gap": null,
      "grid_row": null,
      "grid_template_areas": null,
      "grid_template_columns": null,
      "grid_template_rows": null,
      "height": null,
      "justify_content": null,
      "justify_items": null,
      "left": null,
      "margin": null,
      "max_height": null,
      "max_width": null,
      "min_height": null,
      "min_width": null,
      "object_fit": null,
      "object_position": null,
      "order": null,
      "overflow": null,
      "overflow_x": null,
      "overflow_y": null,
      "padding": null,
      "right": null,
      "top": null,
      "visibility": null,
      "width": null
     }
    },
    "7bd66fc479154ea5bf9e33d470579796": {
     "model_module": "@jupyter-widgets/controls",
     "model_module_version": "1.5.0",
     "model_name": "ProgressStyleModel",
     "state": {
      "_model_module": "@jupyter-widgets/controls",
      "_model_module_version": "1.5.0",
      "_model_name": "ProgressStyleModel",
      "_view_count": null,
      "_view_module": "@jupyter-widgets/base",
      "_view_module_version": "1.2.0",
      "_view_name": "StyleView",
      "bar_color": null,
      "description_width": ""
     }
    },
    "9aa5b9539cad4355b5adbb94398a621b": {
     "model_module": "@jupyter-widgets/controls",
     "model_module_version": "1.5.0",
     "model_name": "DescriptionStyleModel",
     "state": {
      "_model_module": "@jupyter-widgets/controls",
      "_model_module_version": "1.5.0",
      "_model_name": "DescriptionStyleModel",
      "_view_count": null,
      "_view_module": "@jupyter-widgets/base",
      "_view_module_version": "1.2.0",
      "_view_name": "StyleView",
      "description_width": ""
     }
    },
    "9e9f986d5cf142268b55cc0efd63d0ec": {
     "model_module": "@jupyter-widgets/base",
     "model_module_version": "1.2.0",
     "model_name": "LayoutModel",
     "state": {
      "_model_module": "@jupyter-widgets/base",
      "_model_module_version": "1.2.0",
      "_model_name": "LayoutModel",
      "_view_count": null,
      "_view_module": "@jupyter-widgets/base",
      "_view_module_version": "1.2.0",
      "_view_name": "LayoutView",
      "align_content": null,
      "align_items": null,
      "align_self": null,
      "border": null,
      "bottom": null,
      "display": null,
      "flex": null,
      "flex_flow": null,
      "grid_area": null,
      "grid_auto_columns": null,
      "grid_auto_flow": null,
      "grid_auto_rows": null,
      "grid_column": null,
      "grid_gap": null,
      "grid_row": null,
      "grid_template_areas": null,
      "grid_template_columns": null,
      "grid_template_rows": null,
      "height": null,
      "justify_content": null,
      "justify_items": null,
      "left": null,
      "margin": null,
      "max_height": null,
      "max_width": null,
      "min_height": null,
      "min_width": null,
      "object_fit": null,
      "object_position": null,
      "order": null,
      "overflow": null,
      "overflow_x": null,
      "overflow_y": null,
      "padding": null,
      "right": null,
      "top": null,
      "visibility": null,
      "width": null
     }
    },
    "9f0b7dd129984e6ea3fbaea02b615ade": {
     "model_module": "@jupyter-widgets/base",
     "model_module_version": "1.2.0",
     "model_name": "LayoutModel",
     "state": {
      "_model_module": "@jupyter-widgets/base",
      "_model_module_version": "1.2.0",
      "_model_name": "LayoutModel",
      "_view_count": null,
      "_view_module": "@jupyter-widgets/base",
      "_view_module_version": "1.2.0",
      "_view_name": "LayoutView",
      "align_content": null,
      "align_items": null,
      "align_self": null,
      "border": null,
      "bottom": null,
      "display": null,
      "flex": null,
      "flex_flow": null,
      "grid_area": null,
      "grid_auto_columns": null,
      "grid_auto_flow": null,
      "grid_auto_rows": null,
      "grid_column": null,
      "grid_gap": null,
      "grid_row": null,
      "grid_template_areas": null,
      "grid_template_columns": null,
      "grid_template_rows": null,
      "height": null,
      "justify_content": null,
      "justify_items": null,
      "left": null,
      "margin": null,
      "max_height": null,
      "max_width": null,
      "min_height": null,
      "min_width": null,
      "object_fit": null,
      "object_position": null,
      "order": null,
      "overflow": null,
      "overflow_x": null,
      "overflow_y": null,
      "padding": null,
      "right": null,
      "top": null,
      "visibility": null,
      "width": null
     }
    },
    "a10bbae164874489af8f2efc9f3fa527": {
     "model_module": "@jupyter-widgets/controls",
     "model_module_version": "1.5.0",
     "model_name": "HBoxModel",
     "state": {
      "_dom_classes": [],
      "_model_module": "@jupyter-widgets/controls",
      "_model_module_version": "1.5.0",
      "_model_name": "HBoxModel",
      "_view_count": null,
      "_view_module": "@jupyter-widgets/controls",
      "_view_module_version": "1.5.0",
      "_view_name": "HBoxView",
      "box_style": "",
      "children": [
       "IPY_MODEL_05a7684e620f44188ee2727c99cfab4c",
       "IPY_MODEL_1cc621c6bca34c0091730fe989b4d327",
       "IPY_MODEL_abf15e5653d6488d8868afeedab5c66c"
      ],
      "layout": "IPY_MODEL_3f1b936dc2c848aab5efa1c7d3eefadf"
     }
    },
    "a1e56d6b8956460f9359a7d982442ab5": {
     "model_module": "@jupyter-widgets/base",
     "model_module_version": "1.2.0",
     "model_name": "LayoutModel",
     "state": {
      "_model_module": "@jupyter-widgets/base",
      "_model_module_version": "1.2.0",
      "_model_name": "LayoutModel",
      "_view_count": null,
      "_view_module": "@jupyter-widgets/base",
      "_view_module_version": "1.2.0",
      "_view_name": "LayoutView",
      "align_content": null,
      "align_items": null,
      "align_self": null,
      "border": null,
      "bottom": null,
      "display": null,
      "flex": null,
      "flex_flow": null,
      "grid_area": null,
      "grid_auto_columns": null,
      "grid_auto_flow": null,
      "grid_auto_rows": null,
      "grid_column": null,
      "grid_gap": null,
      "grid_row": null,
      "grid_template_areas": null,
      "grid_template_columns": null,
      "grid_template_rows": null,
      "height": null,
      "justify_content": null,
      "justify_items": null,
      "left": null,
      "margin": null,
      "max_height": null,
      "max_width": null,
      "min_height": null,
      "min_width": null,
      "object_fit": null,
      "object_position": null,
      "order": null,
      "overflow": null,
      "overflow_x": null,
      "overflow_y": null,
      "padding": null,
      "right": null,
      "top": null,
      "visibility": null,
      "width": null
     }
    },
    "abf15e5653d6488d8868afeedab5c66c": {
     "model_module": "@jupyter-widgets/controls",
     "model_module_version": "1.5.0",
     "model_name": "HTMLModel",
     "state": {
      "_dom_classes": [],
      "_model_module": "@jupyter-widgets/controls",
      "_model_module_version": "1.5.0",
      "_model_name": "HTMLModel",
      "_view_count": null,
      "_view_module": "@jupyter-widgets/controls",
      "_view_module_version": "1.5.0",
      "_view_name": "HTMLView",
      "description": "",
      "description_tooltip": null,
      "layout": "IPY_MODEL_a1e56d6b8956460f9359a7d982442ab5",
      "placeholder": "​",
      "style": "IPY_MODEL_9aa5b9539cad4355b5adbb94398a621b",
      "value": " 629/629 [00:00&lt;00:00, 26.6kB/s]"
     }
    },
    "adf8a67d312b4974877441bf60d9ff9c": {
     "model_module": "@jupyter-widgets/base",
     "model_module_version": "1.2.0",
     "model_name": "LayoutModel",
     "state": {
      "_model_module": "@jupyter-widgets/base",
      "_model_module_version": "1.2.0",
      "_model_name": "LayoutModel",
      "_view_count": null,
      "_view_module": "@jupyter-widgets/base",
      "_view_module_version": "1.2.0",
      "_view_name": "LayoutView",
      "align_content": null,
      "align_items": null,
      "align_self": null,
      "border": null,
      "bottom": null,
      "display": null,
      "flex": null,
      "flex_flow": null,
      "grid_area": null,
      "grid_auto_columns": null,
      "grid_auto_flow": null,
      "grid_auto_rows": null,
      "grid_column": null,
      "grid_gap": null,
      "grid_row": null,
      "grid_template_areas": null,
      "grid_template_columns": null,
      "grid_template_rows": null,
      "height": null,
      "justify_content": null,
      "justify_items": null,
      "left": null,
      "margin": null,
      "max_height": null,
      "max_width": null,
      "min_height": null,
      "min_width": null,
      "object_fit": null,
      "object_position": null,
      "order": null,
      "overflow": null,
      "overflow_x": null,
      "overflow_y": null,
      "padding": null,
      "right": null,
      "top": null,
      "visibility": null,
      "width": null
     }
    },
    "b07e52a6ddfd4dd2943b46404edb0d35": {
     "model_module": "@jupyter-widgets/controls",
     "model_module_version": "1.5.0",
     "model_name": "DescriptionStyleModel",
     "state": {
      "_model_module": "@jupyter-widgets/controls",
      "_model_module_version": "1.5.0",
      "_model_name": "DescriptionStyleModel",
      "_view_count": null,
      "_view_module": "@jupyter-widgets/base",
      "_view_module_version": "1.2.0",
      "_view_name": "StyleView",
      "description_width": ""
     }
    },
    "be85e95f29e44b13a3c716ef796a9ea1": {
     "model_module": "@jupyter-widgets/base",
     "model_module_version": "1.2.0",
     "model_name": "LayoutModel",
     "state": {
      "_model_module": "@jupyter-widgets/base",
      "_model_module_version": "1.2.0",
      "_model_name": "LayoutModel",
      "_view_count": null,
      "_view_module": "@jupyter-widgets/base",
      "_view_module_version": "1.2.0",
      "_view_name": "LayoutView",
      "align_content": null,
      "align_items": null,
      "align_self": null,
      "border": null,
      "bottom": null,
      "display": null,
      "flex": null,
      "flex_flow": null,
      "grid_area": null,
      "grid_auto_columns": null,
      "grid_auto_flow": null,
      "grid_auto_rows": null,
      "grid_column": null,
      "grid_gap": null,
      "grid_row": null,
      "grid_template_areas": null,
      "grid_template_columns": null,
      "grid_template_rows": null,
      "height": null,
      "justify_content": null,
      "justify_items": null,
      "left": null,
      "margin": null,
      "max_height": null,
      "max_width": null,
      "min_height": null,
      "min_width": null,
      "object_fit": null,
      "object_position": null,
      "order": null,
      "overflow": null,
      "overflow_x": null,
      "overflow_y": null,
      "padding": null,
      "right": null,
      "top": null,
      "visibility": null,
      "width": null
     }
    },
    "c0b161f7a26a4008a5a107454b0837bc": {
     "model_module": "@jupyter-widgets/controls",
     "model_module_version": "1.5.0",
     "model_name": "HTMLModel",
     "state": {
      "_dom_classes": [],
      "_model_module": "@jupyter-widgets/controls",
      "_model_module_version": "1.5.0",
      "_model_name": "HTMLModel",
      "_view_count": null,
      "_view_module": "@jupyter-widgets/controls",
      "_view_module_version": "1.5.0",
      "_view_name": "HTMLView",
      "description": "",
      "description_tooltip": null,
      "layout": "IPY_MODEL_7977a087e545479a9120a196972b059d",
      "placeholder": "​",
      "style": "IPY_MODEL_f8b59fee9d754730b96a4328f2de47f6",
      "value": "model.safetensors: 100%"
     }
    },
    "c23ceaa61e8e4ea49ea0c2d7bc10c94b": {
     "model_module": "@jupyter-widgets/controls",
     "model_module_version": "1.5.0",
     "model_name": "HTMLModel",
     "state": {
      "_dom_classes": [],
      "_model_module": "@jupyter-widgets/controls",
      "_model_module_version": "1.5.0",
      "_model_name": "HTMLModel",
      "_view_count": null,
      "_view_module": "@jupyter-widgets/controls",
      "_view_module_version": "1.5.0",
      "_view_name": "HTMLView",
      "description": "",
      "description_tooltip": null,
      "layout": "IPY_MODEL_0bed5012c0f34d3db75bd546b602d09e",
      "placeholder": "​",
      "style": "IPY_MODEL_ea09fbb16d5b4fd0a62ff3e7c13ee486",
      "value": "vocab.txt: 100%"
     }
    },
    "c7a2c055737b438589fcde70fe284bb9": {
     "model_module": "@jupyter-widgets/controls",
     "model_module_version": "1.5.0",
     "model_name": "FloatProgressModel",
     "state": {
      "_dom_classes": [],
      "_model_module": "@jupyter-widgets/controls",
      "_model_module_version": "1.5.0",
      "_model_name": "FloatProgressModel",
      "_view_count": null,
      "_view_module": "@jupyter-widgets/controls",
      "_view_module_version": "1.5.0",
      "_view_name": "ProgressView",
      "bar_style": "success",
      "description": "",
      "description_tooltip": null,
      "layout": "IPY_MODEL_9e9f986d5cf142268b55cc0efd63d0ec",
      "max": 267832558,
      "min": 0,
      "orientation": "horizontal",
      "style": "IPY_MODEL_274c526187864e6dab4942c9cbb676b2",
      "value": 267832558
     }
    },
    "c9fcc63f8a2344f3b1c70796abeb2984": {
     "model_module": "@jupyter-widgets/controls",
     "model_module_version": "1.5.0",
     "model_name": "DescriptionStyleModel",
     "state": {
      "_model_module": "@jupyter-widgets/controls",
      "_model_module_version": "1.5.0",
      "_model_name": "DescriptionStyleModel",
      "_view_count": null,
      "_view_module": "@jupyter-widgets/base",
      "_view_module_version": "1.2.0",
      "_view_name": "StyleView",
      "description_width": ""
     }
    },
    "d1c6c747b4514e26855da812494072f0": {
     "model_module": "@jupyter-widgets/controls",
     "model_module_version": "1.5.0",
     "model_name": "ProgressStyleModel",
     "state": {
      "_model_module": "@jupyter-widgets/controls",
      "_model_module_version": "1.5.0",
      "_model_name": "ProgressStyleModel",
      "_view_count": null,
      "_view_module": "@jupyter-widgets/base",
      "_view_module_version": "1.2.0",
      "_view_name": "StyleView",
      "bar_color": null,
      "description_width": ""
     }
    },
    "e70633eaa730434c9a5b5a1b076c82a7": {
     "model_module": "@jupyter-widgets/controls",
     "model_module_version": "1.5.0",
     "model_name": "HTMLModel",
     "state": {
      "_dom_classes": [],
      "_model_module": "@jupyter-widgets/controls",
      "_model_module_version": "1.5.0",
      "_model_name": "HTMLModel",
      "_view_count": null,
      "_view_module": "@jupyter-widgets/controls",
      "_view_module_version": "1.5.0",
      "_view_name": "HTMLView",
      "description": "",
      "description_tooltip": null,
      "layout": "IPY_MODEL_30ba1555d4254bc0af80ca0f00f6bb14",
      "placeholder": "​",
      "style": "IPY_MODEL_37b778ee2f7849dd98327be290b4cf07",
      "value": " 48.0/48.0 [00:00&lt;00:00, 1.98kB/s]"
     }
    },
    "ea09fbb16d5b4fd0a62ff3e7c13ee486": {
     "model_module": "@jupyter-widgets/controls",
     "model_module_version": "1.5.0",
     "model_name": "DescriptionStyleModel",
     "state": {
      "_model_module": "@jupyter-widgets/controls",
      "_model_module_version": "1.5.0",
      "_model_name": "DescriptionStyleModel",
      "_view_count": null,
      "_view_module": "@jupyter-widgets/base",
      "_view_module_version": "1.2.0",
      "_view_name": "StyleView",
      "description_width": ""
     }
    },
    "ec71ad143b144c008ed679e37553792d": {
     "model_module": "@jupyter-widgets/controls",
     "model_module_version": "1.5.0",
     "model_name": "ProgressStyleModel",
     "state": {
      "_model_module": "@jupyter-widgets/controls",
      "_model_module_version": "1.5.0",
      "_model_name": "ProgressStyleModel",
      "_view_count": null,
      "_view_module": "@jupyter-widgets/base",
      "_view_module_version": "1.2.0",
      "_view_name": "StyleView",
      "bar_color": null,
      "description_width": ""
     }
    },
    "f8b59fee9d754730b96a4328f2de47f6": {
     "model_module": "@jupyter-widgets/controls",
     "model_module_version": "1.5.0",
     "model_name": "DescriptionStyleModel",
     "state": {
      "_model_module": "@jupyter-widgets/controls",
      "_model_module_version": "1.5.0",
      "_model_name": "DescriptionStyleModel",
      "_view_count": null,
      "_view_module": "@jupyter-widgets/base",
      "_view_module_version": "1.2.0",
      "_view_name": "StyleView",
      "description_width": ""
     }
    },
    "f8ec6cd82a264394a7d46fdbe92df031": {
     "model_module": "@jupyter-widgets/base",
     "model_module_version": "1.2.0",
     "model_name": "LayoutModel",
     "state": {
      "_model_module": "@jupyter-widgets/base",
      "_model_module_version": "1.2.0",
      "_model_name": "LayoutModel",
      "_view_count": null,
      "_view_module": "@jupyter-widgets/base",
      "_view_module_version": "1.2.0",
      "_view_name": "LayoutView",
      "align_content": null,
      "align_items": null,
      "align_self": null,
      "border": null,
      "bottom": null,
      "display": null,
      "flex": null,
      "flex_flow": null,
      "grid_area": null,
      "grid_auto_columns": null,
      "grid_auto_flow": null,
      "grid_auto_rows": null,
      "grid_column": null,
      "grid_gap": null,
      "grid_row": null,
      "grid_template_areas": null,
      "grid_template_columns": null,
      "grid_template_rows": null,
      "height": null,
      "justify_content": null,
      "justify_items": null,
      "left": null,
      "margin": null,
      "max_height": null,
      "max_width": null,
      "min_height": null,
      "min_width": null,
      "object_fit": null,
      "object_position": null,
      "order": null,
      "overflow": null,
      "overflow_x": null,
      "overflow_y": null,
      "padding": null,
      "right": null,
      "top": null,
      "visibility": null,
      "width": null
     }
    }
   }
  }
 },
 "nbformat": 4,
 "nbformat_minor": 0
}
